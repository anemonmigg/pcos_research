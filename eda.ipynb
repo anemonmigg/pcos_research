{
 "cells": [
  {
   "cell_type": "markdown",
   "metadata": {},
   "source": [
    "# Exploratory Data Analysis\n",
    "In this file, we will perform exploratory data analysis to obtain a deeper insight and understanding of the dataset, as well as its individual features. Besides this, we will also perform pre-processing to fix any anomalies within the data."
   ]
  },
  {
   "cell_type": "code",
   "execution_count": 1,
   "metadata": {},
   "outputs": [],
   "source": [
    "# Import needed dependencies\n",
    "import matplotlib as plt\n",
    "import seaborn as sns\n",
    "import numpy as np\n",
    "import pandas as pd"
   ]
  },
  {
   "cell_type": "code",
   "execution_count": 2,
   "metadata": {},
   "outputs": [
    {
     "data": {
      "text/plain": [
       "(541, 6)"
      ]
     },
     "execution_count": 2,
     "metadata": {},
     "output_type": "execute_result"
    }
   ],
   "source": [
    "# Load the dataset (PCOS_Infertility)\n",
    "pcos_df = pd.read_csv(\"data/PCOS_infertility.csv\")\n",
    "pcos_df.shape"
   ]
  },
  {
   "cell_type": "code",
   "execution_count": 3,
   "metadata": {},
   "outputs": [
    {
     "data": {
      "text/html": [
       "<div>\n",
       "<style scoped>\n",
       "    .dataframe tbody tr th:only-of-type {\n",
       "        vertical-align: middle;\n",
       "    }\n",
       "\n",
       "    .dataframe tbody tr th {\n",
       "        vertical-align: top;\n",
       "    }\n",
       "\n",
       "    .dataframe thead th {\n",
       "        text-align: right;\n",
       "    }\n",
       "</style>\n",
       "<table border=\"1\" class=\"dataframe\">\n",
       "  <thead>\n",
       "    <tr style=\"text-align: right;\">\n",
       "      <th></th>\n",
       "      <th>Sl. No</th>\n",
       "      <th>Patient File No.</th>\n",
       "      <th>PCOS (Y/N)</th>\n",
       "      <th>I   beta-HCG(mIU/mL)</th>\n",
       "      <th>II    beta-HCG(mIU/mL)</th>\n",
       "      <th>AMH(ng/mL)</th>\n",
       "    </tr>\n",
       "  </thead>\n",
       "  <tbody>\n",
       "    <tr>\n",
       "      <th>0</th>\n",
       "      <td>1</td>\n",
       "      <td>10001</td>\n",
       "      <td>0</td>\n",
       "      <td>1.99</td>\n",
       "      <td>1.99</td>\n",
       "      <td>2.07</td>\n",
       "    </tr>\n",
       "    <tr>\n",
       "      <th>1</th>\n",
       "      <td>2</td>\n",
       "      <td>10002</td>\n",
       "      <td>0</td>\n",
       "      <td>60.80</td>\n",
       "      <td>1.99</td>\n",
       "      <td>1.53</td>\n",
       "    </tr>\n",
       "    <tr>\n",
       "      <th>2</th>\n",
       "      <td>3</td>\n",
       "      <td>10003</td>\n",
       "      <td>1</td>\n",
       "      <td>494.08</td>\n",
       "      <td>494.08</td>\n",
       "      <td>6.63</td>\n",
       "    </tr>\n",
       "    <tr>\n",
       "      <th>3</th>\n",
       "      <td>4</td>\n",
       "      <td>10004</td>\n",
       "      <td>0</td>\n",
       "      <td>1.99</td>\n",
       "      <td>1.99</td>\n",
       "      <td>1.22</td>\n",
       "    </tr>\n",
       "    <tr>\n",
       "      <th>4</th>\n",
       "      <td>5</td>\n",
       "      <td>10005</td>\n",
       "      <td>0</td>\n",
       "      <td>801.45</td>\n",
       "      <td>801.45</td>\n",
       "      <td>2.26</td>\n",
       "    </tr>\n",
       "  </tbody>\n",
       "</table>\n",
       "</div>"
      ],
      "text/plain": [
       "   Sl. No  Patient File No.  PCOS (Y/N)    I   beta-HCG(mIU/mL)  \\\n",
       "0       1             10001           0                    1.99   \n",
       "1       2             10002           0                   60.80   \n",
       "2       3             10003           1                  494.08   \n",
       "3       4             10004           0                    1.99   \n",
       "4       5             10005           0                  801.45   \n",
       "\n",
       "   II    beta-HCG(mIU/mL) AMH(ng/mL)  \n",
       "0                    1.99       2.07  \n",
       "1                    1.99       1.53  \n",
       "2                  494.08       6.63  \n",
       "3                    1.99       1.22  \n",
       "4                  801.45       2.26  "
      ]
     },
     "execution_count": 3,
     "metadata": {},
     "output_type": "execute_result"
    }
   ],
   "source": [
    "# Preview dataset\n",
    "pcos_df.head()"
   ]
  },
  {
   "cell_type": "code",
   "execution_count": 4,
   "metadata": {},
   "outputs": [
    {
     "data": {
      "text/plain": [
       "Sl. No                      int64\n",
       "Patient File No.            int64\n",
       "PCOS (Y/N)                  int64\n",
       "  I   beta-HCG(mIU/mL)    float64\n",
       "II    beta-HCG(mIU/mL)    float64\n",
       "AMH(ng/mL)                 object\n",
       "dtype: object"
      ]
     },
     "execution_count": 4,
     "metadata": {},
     "output_type": "execute_result"
    }
   ],
   "source": [
    "# Check datatypes of values\n",
    "pcos_df.dtypes"
   ]
  },
  {
   "cell_type": "markdown",
   "metadata": {},
   "source": [
    "`AMH(ng/mL)` should be type `float64`, however it is listed as type `object`."
   ]
  },
  {
   "cell_type": "code",
   "execution_count": 5,
   "metadata": {},
   "outputs": [
    {
     "data": {
      "text/plain": [
       "array(['2.07', '1.53', '6.63', '1.22', '2.26', '6.74', '3.05', '1.54',\n",
       "       '1', '1.61', '4.47', '1.67', '7.94', '2.38', '0.88', '0.69',\n",
       "       '3.78', '1.92', '2.85', '2.13', '4.13', '2.5', '1.89', '0.26',\n",
       "       '3.84', '3.56', '1.56', '1.69', '2.34', '1.58', '2.36', '3.64',\n",
       "       '2.78', '0.33', '2.35', '3.88', '3.55', '4.33', '3.66', '4.5',\n",
       "       '3.2', '2.1', '6.55', '1.2', '2.33', '3.22', '2.333', '2.31',\n",
       "       '4.2', '3.21', '2.14', '2.3', '4.6', '5.8', '5.2', '4.63', '1.01',\n",
       "       '2.58', '0.35', '5.23', '3.68', '2.55', '4.91', '1.03', '6.56',\n",
       "       '3.91', '5.42', '1.65', '2.06', '1.81', '3.81', '3.65', '8.98',\n",
       "       '1.7', '3.18', '2.75', '0.86', '2.29', '2.19', '8.46', '4.59',\n",
       "       '1.04', '4.27', '3.86', '1.42', '10.07', '0.98', '4.07', '3.9',\n",
       "       '10', '16.9', '17', '21.9', '1.6', '3.3', '21', '12.7', '1.8',\n",
       "       '3.6', '15', '5', '17.9', '19.8', '9.2', '2.4', '5.14', '0.3',\n",
       "       '11.48', '19.3', '8.8', '19', '4.3', '1.4', '12.6', '4.8', '17.1',\n",
       "       '11.6', '18.4', '9.9', '3.7', '2.9', '2', '4', '15.9', '7.51',\n",
       "       '10.04', '6.86', '7.02', '8.75', '5.27', '9', '3.41', '0.45',\n",
       "       '2.53', '0.29', '2.6', '2.83', '2.01', '5.67', '1.68', '3.63',\n",
       "       '3.49', '8', '10.25', '32', '3.38', '1.35', '5.78', '4.66', '1.99',\n",
       "       '1.28', '3.99', '5.69', '7.81', '6.41', '5.76', '6.65', '4.15',\n",
       "       '1.86', '2.04', '7.25', '1.91', '5.61', '3.02', '5.25', '7',\n",
       "       '3.17', '5.57', '4.57', '0.37', '26.4', '5.96', '9.1', '6.6', '22',\n",
       "       '1.9', '17.6', '1.1', '7.8', '7.7', '9.7', '0.2', '12', '16.7',\n",
       "       '13.6', '16.8', '3.5', '1.3', '3.14', '1.25', '7.3', '7.2', '3.29',\n",
       "       '2.69', '4.1', '6.2', '14.6', '4.71', '11.1', '1.5', '2.25', '6.8',\n",
       "       '0.8', '7.21', '0.9', '8.5', '66', '26.8', '1.15', '0.16', '8.1',\n",
       "       '0.56', '5.3', '6.5', '15.3', '10.6', '4.7', '5.4', '17.5', '6',\n",
       "       '21.8', '18.5', '12.4', '10.8', '18.7', '18', '0.28', 'a', '3',\n",
       "       '1.06', '2.23', '3.33', '2.65', '11', '5.7', '6.33', '2.2', '15.7',\n",
       "       '2.17', '14.7', '2.8', '5.9', '8.9', '20.4', '9.8', '10.7', '3.09',\n",
       "       '10.9', '6.4', '5.1', '3.1', '5.6', '7.9', '18.9', '11.4', '3.8',\n",
       "       '1.14', '28.6', '5.5', '0.5', '3.4', '2.28', '11.9', '6.9', '0.1',\n",
       "       '12.8', '2.7', '0.84', '20', '10.3', '10.2', '0.6', '0.91', '0.89',\n",
       "       '0.87', '0.7', '0.85', '0.78', '16', '0.74', '0.99', '4.02',\n",
       "       '6.09', '0.71', '3.62', '1.97', '3.03', '5.75', '6.26', '0.72',\n",
       "       '10.53', '10.32', '2.39', '4.9', '11.2', '16.6', '0.19', '6.3',\n",
       "       '19.6', '18.2', '7.6'], dtype=object)"
      ]
     },
     "execution_count": 5,
     "metadata": {},
     "output_type": "execute_result"
    }
   ],
   "source": [
    "# Get unique values of the feature to check\n",
    "pcos_df['AMH(ng/mL)'].unique()"
   ]
  },
  {
   "cell_type": "code",
   "execution_count": 6,
   "metadata": {},
   "outputs": [],
   "source": [
    "# Convert values to type float\n",
    "# pcos_df['AMH(ng/mL)'] = pcos_df['AMH(ng/mL)'].astype(float) # feature contains erroneous values (e.g.: a)"
   ]
  },
  {
   "cell_type": "markdown",
   "metadata": {},
   "source": [
    "The code above has been commented out because it throws an error. This is because among the data, there is non-numerical data."
   ]
  },
  {
   "cell_type": "code",
   "execution_count": 7,
   "metadata": {},
   "outputs": [
    {
     "data": {
      "text/plain": [
       "422     0.1\n",
       "272    0.16\n",
       "524    0.19\n",
       "227     0.2\n",
       "374     0.2\n",
       "       ... \n",
       "454     9.7\n",
       "351     9.8\n",
       "144     9.9\n",
       "434     9.9\n",
       "305       a\n",
       "Name: AMH(ng/mL), Length: 541, dtype: object"
      ]
     },
     "execution_count": 7,
     "metadata": {},
     "output_type": "execute_result"
    }
   ],
   "source": [
    "# Sort the values\n",
    "pcos_df['AMH(ng/mL)'].sort_values()"
   ]
  },
  {
   "cell_type": "markdown",
   "metadata": {},
   "source": [
    "Because only a single row has a non-numerical value, we can drop the row without worrying too much about data loss."
   ]
  },
  {
   "cell_type": "code",
   "execution_count": 8,
   "metadata": {},
   "outputs": [
    {
     "data": {
      "text/plain": [
       "(540, 6)"
      ]
     },
     "execution_count": 8,
     "metadata": {},
     "output_type": "execute_result"
    }
   ],
   "source": [
    "# Drop row where AMH(ng/mL) is \"a\"\n",
    "pcos_df = pcos_df.drop(pcos_df[pcos_df['AMH(ng/mL)'] == 'a'].index)\n",
    "pcos_df.shape"
   ]
  },
  {
   "cell_type": "code",
   "execution_count": 9,
   "metadata": {},
   "outputs": [
    {
     "data": {
      "text/plain": [
       "Sl. No                      int64\n",
       "Patient File No.            int64\n",
       "PCOS (Y/N)                  int64\n",
       "  I   beta-HCG(mIU/mL)    float64\n",
       "II    beta-HCG(mIU/mL)    float64\n",
       "AMH(ng/mL)                float64\n",
       "dtype: object"
      ]
     },
     "execution_count": 9,
     "metadata": {},
     "output_type": "execute_result"
    }
   ],
   "source": [
    "# Try type conversion\n",
    "pcos_df['AMH(ng/mL)'] = pcos_df['AMH(ng/mL)'].astype(float)\n",
    "pcos_df.dtypes"
   ]
  }
 ],
 "metadata": {
  "kernelspec": {
   "display_name": "ml_pcos",
   "language": "python",
   "name": "python3"
  },
  "language_info": {
   "codemirror_mode": {
    "name": "ipython",
    "version": 3
   },
   "file_extension": ".py",
   "mimetype": "text/x-python",
   "name": "python",
   "nbconvert_exporter": "python",
   "pygments_lexer": "ipython3",
   "version": "3.12.8"
  }
 },
 "nbformat": 4,
 "nbformat_minor": 2
}
